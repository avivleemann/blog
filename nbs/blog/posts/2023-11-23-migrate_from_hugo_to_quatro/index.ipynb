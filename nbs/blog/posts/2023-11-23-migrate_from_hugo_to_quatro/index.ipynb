{
 "cells": [
  {
   "cell_type": "markdown",
   "metadata": {},
   "source": [
    "# Migrate Blog from Hugo to Quarto\n",
    "```markdown\n",
    "This blog was created using Hugo.\n",
    "I decided to migrate to quarto as it is easier to use, and I can use Jupyter notebooks to create blog posts.\n",
    "As I found it easier to use notebooks to create blog posts, I decided to migrate to quarto.\n",
    "In the process, I used nbdev and quarto to update my old blog posts and create new content.\n",
    "nbdev and quarto can also be used to create and maintain a package.\n",
    "\n",
    "Example:\n",
    "I created a small package called [volcanoPlot](https://avivleemann.github.io/volcanoPlot/).\n",
    "```\n"
   ]
  },
  {
   "cell_type": "markdown",
   "metadata": {},
   "source": [
    "## install nbdev and quarto\n",
    "```markdown\n",
    "The first step is to install nbdev. I used the following guide. \n",
    "https://nbdev.fast.ai/tutorial.html#Install-nbdev\n",
    "i'm using micromamba to manage my conda environments.\n",
    "in my jupyter environment i ran the following commands:\n",
    "\n",
    "`micromamba install -c fastai -y nbdev`\n",
    "`nbdev_install_quarto`"
   ]
  },
  {
   "cell_type": "markdown",
   "metadata": {},
   "source": [
    "## create a new nbdev project\n",
    "```markdown\n",
    "I then created a new repository on github and cloned it to my local machine.\n",
    "the next step is to create a new nbdev project, and quarto docs.\n",
    "\n",
    "Folder structure\n",
    "\n",
    "Below is an overview of the general folder structure for a blog within a nbdev site:\n",
    "\n",
    "nbs/blog\n",
    "├── index.qmd\n",
    "└── posts\n",
    "    ├── 2022-07-28-nbdev2\n",
    "    │   ├── cover.png\n",
    "    │   ├── index.qmd\n",
    "    │   ├── ...\n",
    "    └── 2022-08-25-jupyter-git\n",
    "        ├── friendly-conflict.png\n",
    "        ├── index.qmd\n",
    "        └── ...\n",
    "    ..."
   ]
  },
  {
   "cell_type": "markdown",
   "metadata": {},
   "source": [
    "## Changes for blog insted of package:\n",
    "```markdown\n",
    "\n",
    "In MANIFEST.in i changed the following line:\n",
    "`include README.md -> exclude README.md`\n",
    "To exclude the README.md file from the blog.\n",
    "\n",
    "Every blog post could be written in a notebook, or markdown file.\n",
    "When using a notebook, the notebook should be converted to qmd before committing to git, and publishing to the blog.\n",
    "Example:\n",
    "\n",
    "`quarto convert blog/posts/2023-11-22-RNA-seq-RSV/RNA-seq.ipynb`\n",
    "\n",
    "In settings.ini i ichanged the following lines:\n",
    "`doc_path = _docs  -> doc_path = nbs/_docs`\n",
    "`lib_path = blog -> lib_path = nbs/blog`\n"
   ]
  },
  {
   "cell_type": "markdown",
   "metadata": {},
   "source": [
    "## create a new blog post\n",
    "to publish the site with gh-pages, i used the following command from nbs folder:\n",
    "\n",
    "`cd nbs/`\n",
    "`quarto publish gh-pages`\n",
    "\n",
    "quatro publsih gh-pages will create a new branch called gh-pages, and push the site to that branch.\n",
    "on github, i changed the settings to use gh-pages as the source for the site."
   ]
  },
  {
   "cell_type": "markdown",
   "metadata": {},
   "source": [
    "## Hugo old posts to quarto\n",
    "```markdown\n",
    "I copied all my posts content from hugo to quarto.\n",
    "than i ran `nbdev_migrate --path posts/`, and changed manually files names from markdown to qmd.\n",
    "in the markdown section i check that all variables are correct.\n",
    "than all images link's were changed from hugo format to qmd [volcanoPlot](https://avivleemann.github.io/volcanoPlot/). \n",
    "the final hceck for all altered been made is to run `quarto preview` and check that all posts are displayed correctly."
   ]
  },
  {
   "cell_type": "markdown",
   "metadata": {},
   "source": [
    "## update all files on github\n",
    "```markdown\n",
    "to update files on github still have to use git push main as the main branch is still the default branch and pointed to the remote main branch.\n",
    "`git add .`\n",
    "`git commit -m \"update blog\"`\n",
    "`git push`\n"
   ]
  },
  {
   "cell_type": "markdown",
   "metadata": {},
   "source": [
    "# Resources:\n",
    "- [https://nbdev.fast.ai/tutorials/tutorial.html](https://nbdev.fast.ai/tutorials/tutorial.html)\n",
    "- [https://quarto.org/docs/websites/website-blog.html](https://quarto.org/docs/websites/website-blog.html)\n",
    "- [https://www.andreashandel.com/posts/2022-10-01-hugo-to-quarto-migration/](hugo-to-quarto-migration)"
   ]
  }
 ],
 "metadata": {
  "language_info": {
   "name": "python"
  }
 },
 "nbformat": 4,
 "nbformat_minor": 2
}
