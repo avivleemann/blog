{
 "cells": [
  {
   "cell_type": "markdown",
   "metadata": {},
   "source": [
    "# python usefule tips\n",
    "\n",
    "## Logger class\n",
    "creating a logger class to log the output and control the log files better.\n",
    "to use the logger class, just import the class and create an instance of it.\n",
    "by using the code below, you can create a logger instance and use it to log the output."
   ]
  },
  {
   "cell_type": "code",
   "execution_count": 3,
   "metadata": {},
   "outputs": [],
   "source": [
    "import logging\n",
    "\n",
    "class MyLogger:\n",
    "    '''\n",
    "    create object of log file\n",
    "    '''\n",
    "    def __init__(self,name, log_file):\n",
    "       \n",
    "        formatter = logging.Formatter(\"%(asctime)s - %(levelname)s - %(message)s\", \"%Y-%m-%d %H:%M:%S\")\n",
    "        handler = logging.FileHandler(log_file,mode='w')        \n",
    "        handler.setFormatter(formatter)\n",
    "        self.logger = logging.getLogger(name)\n",
    "        self.logger.setLevel(logging.DEBUG)\n",
    "        self.logger.addHandler(handler)\n",
    "    \n",
    "    @property\n",
    "    def get(self):\n",
    "        return self.logger\n",
    "    \n",
    "logger = MyLogger('test','test.log').get\n",
    "logger.info('test')\n",
    "logger.debug('test')"
   ]
  },
  {
   "cell_type": "markdown",
   "metadata": {},
   "source": [
    "## decoretor\n",
    "decorator is a function that takes another function as an argument, and returns a function.\n",
    "it is used to add functionality to an existing function.\n",
    "for example i used it as time function to calculate the time of the function execution."
   ]
  },
  {
   "cell_type": "code",
   "execution_count": 4,
   "metadata": {},
   "outputs": [],
   "source": [
    "from decorator import decorator\n",
    "from datetime import datetime, timedelta\n",
    "\n",
    "@decorator\n",
    "def time_func(func, *args, **kwargs):\n",
    "    start_time = datetime.now()\n",
    "    res = func(*args, **kwargs)\n",
    "    print(\n",
    "        f\"\"\"the function excute time: {timedelta(seconds=(datetime.now() - start_time))} \"\"\"\n",
    "    )\n",
    "    return res"
   ]
  },
  {
   "cell_type": "markdown",
   "metadata": {},
   "source": [
    "## selenium headless browser"
   ]
  },
  {
   "cell_type": "code",
   "execution_count": null,
   "metadata": {},
   "outputs": [],
   "source": [
    "from selenium import webdriver\n",
    "from selenium.webdriver.support.ui import WebDriverWait\n",
    "from selenium.webdriver.common.by import By\n",
    "from selenium.webdriver.support import expected_conditions as EC"
   ]
  },
  {
   "cell_type": "code",
   "execution_count": null,
   "metadata": {},
   "outputs": [],
   "source": [
    "headless chrome driver:\n",
    "        if Path(chromedriver_path).exists():\n",
    "            options = ChromeOptions()\n",
    "            options.add_argument('--disable-gpu')\n",
    "            options.add_argument('--no-sandbox') # This option may be required if you're running as root in a container\n",
    "            options.add_argument('--headless')\n",
    "            service_log_path = \"/home/selex/primers/chromedriver.log\"\n",
    "            service = ChromeService(chromedriver_path, log_path=service_log_path)\n",
    "            service.service_args = ['--log', 'trace'] # More detailed logging\n",
    "            driver = webdriver.Chrome(options=options, service=service)\n",
    "            logger.info(\"open page\")\n",
    "            driver.get(\"https://url.com \")\n",
    "            idt_signin_chrome(driver, logger)  \n"
   ]
  },
  {
   "cell_type": "code",
   "execution_count": null,
   "metadata": {},
   "outputs": [],
   "source": [
    "\n",
    "headless firefox driver :\n",
    "            options_firefox = webdriver.FirefoxOptions()\n",
    "            options_firefox.add_argument('-headless')\n",
    "            driver = webdriver.Firefox(options=options_firefox)\n",
    "            logger.info(\"open page\")\n",
    "            driver.get(\"https://url.com \")\n",
    "            idt_signin_firefox(driver, logger)  "
   ]
  },
  {
   "cell_type": "code",
   "execution_count": null,
   "metadata": {},
   "outputs": [],
   "source": [
    "in order to screen shot number of elements i run on the number of the elements and search each iteration from the current location the elements to avoid stable error  \n",
    "\n",
    "for i in range(len(driver.find_elements(By.XPATH,\"//*[@class='permutation']\"))):\n",
    "        strand = driver.find_elements(By.XPATH,\"//*[@class='permutation']\")\n",
    "        name_s ,name_text= strand[i].text.splitlines()[0],strand[i].text\n",
    "        strand[i].location_once_scrolled_into_view\n",
    "        strand[i].click()\n",
    "        sleep(choice(times))\n",
    "        driver.find_element(By.CSS_SELECTOR,\"tbody\").screenshot(pjoin(lib_path , f\"{name}nupack_{name_s}.png\"))\n",
    "        # clik  on return to results\n",
    "        if name_s == 'strand1-strand1' and not name:\n",
    "            with open(lib_path / f'{name}Nupack_faild_secondary_structure.txt','w') as f:\n",
    "                f.write(name_text)\n",
    "            driver.quit()\n",
    "            return True\n",
    "        driver.find_element(By.PARTIAL_LINK_TEXT,\"Back to results\").click()\n",
    "        sleep(choice(times))\n",
    "        driver.refresh()"
   ]
  }
 ],
 "metadata": {
  "kernelspec": {
   "display_name": "Python 3",
   "language": "python",
   "name": "python3"
  },
  "language_info": {
   "codemirror_mode": {
    "name": "ipython",
    "version": 3
   },
   "file_extension": ".py",
   "mimetype": "text/x-python",
   "name": "python",
   "nbconvert_exporter": "python",
   "pygments_lexer": "ipython3",
   "version": "3.12.0"
  }
 },
 "nbformat": 4,
 "nbformat_minor": 2
}
